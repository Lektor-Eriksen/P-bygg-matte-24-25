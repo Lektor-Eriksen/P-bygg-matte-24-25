{
 "cells": [
  {
   "cell_type": "markdown",
   "id": "137ba48d-38a4-4036-bfd3-05b2e5530980",
   "metadata": {},
   "source": [
    "# While-løkke"
   ]
  },
  {
   "cell_type": "code",
   "execution_count": 4,
   "id": "35ec84bc-0e33-4ca9-a37e-d7dca2d2a669",
   "metadata": {},
   "outputs": [
    {
     "name": "stdout",
     "output_type": "stream",
     "text": [
      "4\n",
      "9\n",
      "16\n",
      "25\n",
      "36\n",
      "49\n",
      "64\n",
      "81\n",
      "100\n"
     ]
    }
   ],
   "source": [
    "k = 1 # startverdi for k\n",
    "\n",
    "while k**2 < 100: # så lenge k**2 er mindre enn 100, så\n",
    "    k = k+1 # auk k med 1\n",
    "    print(k**2) # skriv ut k**2\n",
    "    "
   ]
  },
  {
   "cell_type": "markdown",
   "id": "811c1344-65c0-40db-9bfa-d8854a55c504",
   "metadata": {},
   "source": [
    "### summering av kubikktal"
   ]
  },
  {
   "cell_type": "code",
   "execution_count": 9,
   "id": "e80841ae-faaa-4b25-9fc6-b16a215f3bc7",
   "metadata": {},
   "outputs": [
    {
     "name": "stdout",
     "output_type": "stream",
     "text": [
      "1\n",
      "9\n",
      "36\n",
      "100\n",
      "225\n",
      "441\n",
      "784\n",
      "1296\n",
      "2025\n",
      "3025\n"
     ]
    }
   ],
   "source": [
    "k = 1 # startverdi for k\n",
    "s = 0 # startverdi for summen\n",
    "\n",
    "while k < 11: # så lenge k er mindre enn 11, så\n",
    "    s = s + k**3 # legg til eit kubikktal\n",
    "    k = k + 1 # auk k med 1\n",
    "    print(s) # skriv ut summen av alle kubikktala så langt"
   ]
  },
  {
   "cell_type": "code",
   "execution_count": null,
   "id": "af789138-e9d0-4b52-b067-3b06b8f54d21",
   "metadata": {},
   "outputs": [],
   "source": []
  }
 ],
 "metadata": {
  "kernelspec": {
   "display_name": "Python 3 (ipykernel)",
   "language": "python",
   "name": "python3"
  },
  "language_info": {
   "codemirror_mode": {
    "name": "ipython",
    "version": 3
   },
   "file_extension": ".py",
   "mimetype": "text/x-python",
   "name": "python",
   "nbconvert_exporter": "python",
   "pygments_lexer": "ipython3",
   "version": "3.12.4"
  }
 },
 "nbformat": 4,
 "nbformat_minor": 5
}
