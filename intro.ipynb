{
 "cells": [
  {
   "cell_type": "code",
   "execution_count": 1,
   "id": "bf28dde2-ccf9-4da7-87dd-18544043ab9b",
   "metadata": {},
   "outputs": [
    {
     "data": {
      "text/plain": [
       "20"
      ]
     },
     "execution_count": 1,
     "metadata": {},
     "output_type": "execute_result"
    }
   ],
   "source": [
    "# eg brukar emneknaggen til å skrive forklarande tekst\n",
    "5*4 # me gangar 5 med 4"
   ]
  },
  {
   "cell_type": "code",
   "execution_count": 3,
   "id": "006a976c-6a0f-482e-a910-99e3583caaa2",
   "metadata": {},
   "outputs": [
    {
     "name": "stdout",
     "output_type": "stream",
     "text": [
      "21\n"
     ]
    }
   ],
   "source": [
    "a = 7 # definerar a til å vere 7\n",
    "b = 3 # definerar b til å vere 3\n",
    "print(a*b) # skriv ut svaret a gange b"
   ]
  },
  {
   "cell_type": "code",
   "execution_count": 5,
   "id": "d90cace1-328d-4359-90ff-4d9791d9f1da",
   "metadata": {},
   "outputs": [
    {
     "data": {
      "text/plain": [
       "10"
      ]
     },
     "execution_count": 5,
     "metadata": {},
     "output_type": "execute_result"
    }
   ],
   "source": [
    "a+b # reknar ut a + b"
   ]
  },
  {
   "cell_type": "code",
   "execution_count": 7,
   "id": "605e6ae9-6cab-41f2-aad1-7335315333cb",
   "metadata": {},
   "outputs": [
    {
     "data": {
      "text/plain": [
       "'SimenEriksen'"
      ]
     },
     "execution_count": 7,
     "metadata": {},
     "output_type": "execute_result"
    }
   ],
   "source": [
    "fornamn = 'Simen' # brukar '' for å vise tekst (string)\n",
    "etternamn = 'Eriksen' # definerar fornamn og etternamn\n",
    "fornamn + etternamn # legg dei saman. Sidan dei er tekst blir teksten lagt etter kvarandre"
   ]
  },
  {
   "cell_type": "code",
   "execution_count": 9,
   "id": "6f8eb9c6-aea6-426c-80c3-8b6fe42898b2",
   "metadata": {},
   "outputs": [
    {
     "name": "stdout",
     "output_type": "stream",
     "text": [
      "Simen Eriksen\n"
     ]
    }
   ],
   "source": [
    "print(fornamn, etternamn) # skriv ut namnet mitt"
   ]
  },
  {
   "cell_type": "code",
   "execution_count": 11,
   "id": "29335158-6f51-4ebc-acd2-b5889ddec5e5",
   "metadata": {},
   "outputs": [
    {
     "data": {
      "text/plain": [
       "2.0"
      ]
     },
     "execution_count": 11,
     "metadata": {},
     "output_type": "execute_result"
    }
   ],
   "source": [
    "8 / 4 # delar 8 på 4"
   ]
  },
  {
   "cell_type": "code",
   "execution_count": 13,
   "id": "67664e54-b608-4575-8aa2-8fb4fb34a49c",
   "metadata": {},
   "outputs": [
    {
     "data": {
      "text/plain": [
       "2.25"
      ]
     },
     "execution_count": 13,
     "metadata": {},
     "output_type": "execute_result"
    }
   ],
   "source": [
    "9 / 4 # delar 9 på 4"
   ]
  },
  {
   "cell_type": "code",
   "execution_count": 15,
   "id": "1a57492d-a465-456c-a42d-c616db329a5a",
   "metadata": {},
   "outputs": [
    {
     "data": {
      "text/plain": [
       "2"
      ]
     },
     "execution_count": 15,
     "metadata": {},
     "output_type": "execute_result"
    }
   ],
   "source": [
    "9 // 4 # heiltalsdivisjon (rundar ned til næraste heile tal)"
   ]
  },
  {
   "cell_type": "code",
   "execution_count": 17,
   "id": "c597482d-9f73-45bf-b821-83f2d7f0ff4b",
   "metadata": {},
   "outputs": [
    {
     "data": {
      "text/plain": [
       "1"
      ]
     },
     "execution_count": 17,
     "metadata": {},
     "output_type": "execute_result"
    }
   ],
   "source": [
    "9 % 4 # finn resten etter ein heiltalsdivisjon"
   ]
  },
  {
   "cell_type": "code",
   "execution_count": 19,
   "id": "4d67d8cd-b4bb-4e8c-a775-9d814a8451d8",
   "metadata": {},
   "outputs": [],
   "source": [
    "v = 20 # km / t\n",
    "t = 3 # timer\n",
    "s = v*t # km"
   ]
  },
  {
   "cell_type": "code",
   "execution_count": 21,
   "id": "3faafcfa-170f-4ddc-83ae-3c3f9cc980e0",
   "metadata": {},
   "outputs": [
    {
     "name": "stdout",
     "output_type": "stream",
     "text": [
      "60\n"
     ]
    }
   ],
   "source": [
    "print(s) # skriv ut kva strekninga er"
   ]
  },
  {
   "cell_type": "code",
   "execution_count": 25,
   "id": "909cd24d-5b17-47ec-9679-fcd9ee912ea7",
   "metadata": {},
   "outputs": [
    {
     "name": "stdin",
     "output_type": "stream",
     "text": [
      "Farten er: 60\n",
      "Antal timar 4\n"
     ]
    },
    {
     "name": "stdout",
     "output_type": "stream",
     "text": [
      "240\n"
     ]
    }
   ],
   "source": [
    "v = input('Farten er:') # lagar ein boks som me skal skrive inn i når programmet blir kjørt\n",
    "t = input('Antal timar') # første boksen for fart og andre for timar\n",
    "\n",
    "s = int(v)*int(t) # sørger for at fart og tid er heiltal int() og gangar tala ilag\n",
    "print(s # skriv ut strekninga"
   ]
  },
  {
   "cell_type": "code",
   "execution_count": null,
   "id": "1484390c-5fec-4884-9d80-381861e70ec1",
   "metadata": {},
   "outputs": [],
   "source": []
  }
 ],
 "metadata": {
  "kernelspec": {
   "display_name": "Python 3 (ipykernel)",
   "language": "python",
   "name": "python3"
  },
  "language_info": {
   "codemirror_mode": {
    "name": "ipython",
    "version": 3
   },
   "file_extension": ".py",
   "mimetype": "text/x-python",
   "name": "python",
   "nbconvert_exporter": "python",
   "pygments_lexer": "ipython3",
   "version": "3.12.4"
  }
 },
 "nbformat": 4,
 "nbformat_minor": 5
}
